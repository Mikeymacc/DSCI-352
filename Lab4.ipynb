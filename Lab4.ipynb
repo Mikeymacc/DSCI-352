{
 "cells": [
  {
   "cell_type": "code",
   "execution_count": 1,
   "id": "d9089c15",
   "metadata": {},
   "outputs": [],
   "source": [
    "# import libraries\n",
    "from collections import defaultdict\n",
    "import pandas as pd\n",
    "import numpy as np\n",
    "\n",
    "# defines the mapreduce function\n",
    "def mapreduce(mapper, reducer, data):\n",
    "    # map phase\n",
    "    mdata = [pair for item in data for pair in mapper(item)]\n",
    "\n",
    "    # shuffles and sorts\n",
    "    sdata = defaultdict(list)\n",
    "    for key, value in mdata:\n",
    "        sdata[key].append(value)\n",
    "    sitems = sdata.items()\n",
    "\n",
    "    # reduces the data\n",
    "    rdata = [reducer(item) for item in sitems]\n",
    "    rdata = [x for x in rdata if x is not None]  # drop None pairs\n",
    "\n",
    "    return rdata, [len(item) for item in data], len(mdata), len(sdata)\n"
   ]
  },
  {
   "cell_type": "code",
   "execution_count": 2,
   "id": "cec7bc21",
   "metadata": {},
   "outputs": [],
   "source": [
    "# defines the mapper function for word counting\n",
    "def wcmapper(data):\n",
    "    key_value_pairs = []\n",
    "    for line in data:\n",
    "        words = line.split()\n",
    "        for word in words:\n",
    "            key_value_pairs.append((word.lower(), 1))  # convert to lowercase\n",
    "    return key_value_pairs\n",
    "\n",
    "# defines the reducer function for word counting\n",
    "def wcreducer(key_value):\n",
    "    key, values = key_value\n",
    "    return (key, sum(values))  \n"
   ]
  },
  {
   "cell_type": "code",
   "execution_count": 19,
   "id": "20159e44",
   "metadata": {},
   "outputs": [
    {
     "name": "stdout",
     "output_type": "stream",
     "text": [
      "Single Chunk: [('data', 5), ('science', 3), ('is', 3), ('fun', 1), ('machine', 1), ('learning', 1), ('and', 2), ('artificial', 2), ('intelligence', 2), ('big', 2), ('powerful', 1), ('hello', 1), ('world', 1), ('the', 1), ('future', 1)]\n",
      "Multiple Chunks: [('data', 5), ('science', 3), ('is', 3), ('fun', 1), ('machine', 1), ('learning', 1), ('and', 2), ('artificial', 2), ('intelligence', 2), ('big', 2), ('powerful', 1), ('hello', 1), ('world', 1), ('the', 1), ('future', 1)]\n"
     ]
    }
   ],
   "source": [
    "# sample input data\n",
    "input_texts = [\n",
    "    \"data science is fun\",\n",
    "    \"machine learning and artificial intelligence\",\n",
    "    \"big data is powerful\",\n",
    "    \"hello data science world\",\n",
    "    \"artificial intelligence is the future\",\n",
    "    \"data science and big data\"\n",
    "]\n",
    "\n",
    "\n",
    "# mapreduce with input as a single chunk\n",
    "result_singlechunk, _, _, _ = mapreduce(\n",
    "    lambda data: wcmapper(data),\n",
    "    lambda item: wcreducer(item),\n",
    "    [input_texts]\n",
    ")\n",
    "\n",
    "# mapreduce with input split into multiple chunks\n",
    "result_multchunks, _, _, _ = mapreduce(\n",
    "    lambda data: wcmapper(data),\n",
    "    lambda item: wcreducer(item),\n",
    "    [[line] for line in input_texts]  # splits single-line chunks\n",
    ")\n",
    "\n",
    "# displays results\n",
    "print(\"Single Chunk:\", result_singlechunk)\n",
    "print(\"Multiple Chunks:\", result_multchunks)\n"
   ]
  },
  {
   "cell_type": "code",
   "execution_count": 4,
   "id": "e78209be",
   "metadata": {},
   "outputs": [
    {
     "name": "stdout",
     "output_type": "stream",
     "text": [
      "Most Common:\n",
      "soda           1514\n",
      "yogurt         1334\n",
      "sausage         924\n",
      "pastry          785\n",
      "newspapers      596\n",
      "frankfurter     580\n",
      "pork            566\n",
      "butter          534\n",
      "beef            516\n",
      "curd            514\n",
      "Name: count, dtype: int64\n",
      "\n",
      "Least Common:\n",
      "syrup          21\n",
      "soap           20\n",
      "prosecco       19\n",
      "cookware       17\n",
      "honey          13\n",
      "cream          12\n",
      "liqueur         9\n",
      "decalcifier     9\n",
      "whisky          8\n",
      "bags            4\n",
      "Name: count, dtype: int64\n"
     ]
    }
   ],
   "source": [
    "# loads in data\n",
    "basket_data = pd.read_csv(\"basket.csv\", header=None)\n",
    "\n",
    "# flattens the dataset into array and count occurrences of each item\n",
    "all_items = basket_data.values.flatten()  \n",
    "all_items = pd.Series(all_items).dropna()  # Drop nan values\n",
    "all_items = all_items[all_items.str.isalpha()]\n",
    "\n",
    "# frequency of the items\n",
    "item_counts = all_items.value_counts()\n",
    "\n",
    "# 10 most and least common items\n",
    "mostcitems = item_counts.head(10)\n",
    "leastcitems = item_counts.tail(10)\n",
    "\n",
    "# results\n",
    "print(\"Most Common:\")\n",
    "print(mostcitems)\n",
    "\n",
    "print(\"\\nLeast Common:\")\n",
    "print(leastcitems)\n"
   ]
  },
  {
   "cell_type": "code",
   "execution_count": 5,
   "id": "5e989572",
   "metadata": {},
   "outputs": [],
   "source": [
    "from mlxtend.preprocessing import TransactionEncoder\n",
    "\n",
    "# converts each row to a list of items\n",
    "basketlist = basket_data.apply(lambda row: row.dropna().tolist(), axis=1).tolist()\n",
    "\n",
    "# one-hot encode the data\n",
    "te = TransactionEncoder()\n",
    "basketoneh = te.fit_transform(basketlist)\n",
    "basketoneh_df = pd.DataFrame(basketoneh, columns=te.columns_)\n",
    "\n"
   ]
  },
  {
   "cell_type": "code",
   "execution_count": 6,
   "id": "984a0c46",
   "metadata": {},
   "outputs": [
    {
     "name": "stdout",
     "output_type": "stream",
     "text": [
      "\n",
      "Support Thresh: 0.01\n",
      "Num of Freq Itemsets: 69\n",
      "    support       itemsets\n",
      "0  0.157912   (whole milk)\n",
      "1  0.051724       (pastry)\n",
      "2  0.018778  (salty snack)\n",
      "3  0.085873       (yogurt)\n",
      "4  0.060345      (sausage)\n",
      "\n",
      "Support Thresh: 0.005\n",
      "Num of Freq Itemsets: 126\n",
      "    support       itemsets\n",
      "0  0.157912   (whole milk)\n",
      "1  0.051724       (pastry)\n",
      "2  0.018778  (salty snack)\n",
      "3  0.085873       (yogurt)\n",
      "4  0.060345      (sausage)\n",
      "\n",
      "Support Thresh: 0.001\n",
      "Num of Freq Itemsets: 750\n",
      "    support       itemsets\n",
      "0  0.157912   (whole milk)\n",
      "1  0.051724       (pastry)\n",
      "2  0.018778  (salty snack)\n",
      "3  0.085873       (yogurt)\n",
      "4  0.060345      (sausage)\n"
     ]
    }
   ],
   "source": [
    "from mlxtend.frequent_patterns import fpgrowth\n",
    "\n",
    "# different thresholds\n",
    "thresholds = [0.01, 0.005, 0.001]  # range of thresholds\n",
    "\n",
    "for support in thresholds:\n",
    "    frequent_itemsets = fpgrowth(basketoneh_df, min_support=support, use_colnames=True)\n",
    "    print(f\"\\nSupport Thresh: {support}\")\n",
    "    print(f\"Num of Freq Itemsets: {len(frequent_itemsets)}\")\n",
    "    print(frequent_itemsets.head())\n"
   ]
  },
  {
   "cell_type": "code",
   "execution_count": 8,
   "id": "f89fbc39",
   "metadata": {},
   "outputs": [
    {
     "name": "stdout",
     "output_type": "stream",
     "text": [
      "Association Rules with a Lift of at least 2:\n",
      "            antecedents           consequents  antecedent support  \\\n",
      "0  (whole milk, yogurt)             (sausage)            0.011160   \n",
      "1             (sausage)  (whole milk, yogurt)            0.060345   \n",
      "\n",
      "   consequent support  support  confidence      lift  representativity  \\\n",
      "0            0.060345  0.00147    0.131737  2.183062               1.0   \n",
      "1            0.011160  0.00147    0.024363  2.183062               1.0   \n",
      "\n",
      "   leverage  conviction  zhangs_metric   jaccard  certainty  kulczynski  \n",
      "0  0.000797    1.082224       0.548044  0.020992   0.075976     0.07805  \n",
      "1  0.000797    1.013533       0.576731  0.020992   0.013352     0.07805  \n"
     ]
    }
   ],
   "source": [
    "from mlxtend.frequent_patterns import fpgrowth, association_rules\n",
    "\n",
    "# generate frequent itemsets with minimum support of 0.0005\n",
    "frequentis = fpgrowth(basketoneh_df, min_support=0.0005, use_colnames=True)\n",
    "\n",
    "# generate association rules with lift >= 2\n",
    "numis = len(frequent_itemsets)\n",
    "rules = association_rules(frequent_itemsets, metric=\"lift\", min_threshold=2, num_itemsets=numis)\n",
    "\n",
    "# Display the resulting rules\n",
    "print(\"Association Rules with a Lift of at least 2:\")\n",
    "print(rules)\n"
   ]
  },
  {
   "cell_type": "code",
   "execution_count": 9,
   "id": "0ffeaf94",
   "metadata": {},
   "outputs": [],
   "source": [
    "from mlxtend.frequent_patterns import fpgrowth\n",
    "\n",
    "# mapper function for frequent itemsets\n",
    "def frequentismapper(data_chunk):\n",
    "    # computes frequent itemsets on the chunk\n",
    "    frequentis = fpgrowth(data_chunk, min_support=0.0005, use_colnames=True)\n",
    "    \n",
    "    # generates key,value pairs\n",
    "    kvpairs = []\n",
    "    for _, row in frequentis.iterrows():\n",
    "        itemset = frozenset(row['itemsets'])  # key: itemset as a frozenset\n",
    "        cnt = row['support'] * len(data_chunk)  # value: count derived from support\n",
    "        kvpairs.append((itemset, cnt))\n",
    "    return kvpairs\n"
   ]
  },
  {
   "cell_type": "code",
   "execution_count": 10,
   "id": "f7b0f961",
   "metadata": {},
   "outputs": [],
   "source": [
    "# reducer function\n",
    "def frequentisreducer(key_value):\n",
    "    key, values = key_value  # key: itemset, values: list of counts\n",
    "    ts = sum(values)\n",
    "    if ts >= 0.0005:  # checks threshold\n",
    "        return (key, ts)  #returns itemset and total support\n",
    "    return None  # or excludes ones below the threshold\n"
   ]
  },
  {
   "cell_type": "code",
   "execution_count": 16,
   "id": "ea00c9b3",
   "metadata": {},
   "outputs": [],
   "source": [
    "import numpy as np\n",
    "\n",
    "# defines splits \n",
    "splits = [2, 4, 8, 16]\n",
    "moutputs = []\n",
    "skeys = []\n",
    "\n",
    "# takes a bit to run\n",
    "for nchunks in splits:\n",
    "    # splits into chunks\n",
    "    chunkeddata = np.array_split(basketoneh_df, nchunks)\n",
    "    \n",
    "    # runs mapreduce on the chunks\n",
    "    _, mapper_lengths, lenm, lens = mapreduce(\n",
    "        lambda data: frequentismapper(data),\n",
    "        lambda item: frequentisreducer(item),\n",
    "        chunkeddata\n",
    "    )\n",
    "    \n",
    "    # results\n",
    "    moutputs.append(lenm)\n",
    "    skeys.append(lens)\n"
   ]
  },
  {
   "cell_type": "code",
   "execution_count": 17,
   "id": "fe6ae60b",
   "metadata": {},
   "outputs": [
    {
     "data": {
      "image/png": "[encoded data removed]",
      "text/plain": [
       "<Figure size 800x500 with 1 Axes>"
      ]
     },
     "metadata": {},
     "output_type": "display_data"
    }
   ],
   "source": [
    "import matplotlib.pyplot as plt\n",
    "\n",
    "# plot\n",
    "plt.figure(figsize=(8, 5))\n",
    "plt.plot(splits, moutputs, label='Mapper Outputs', marker='o')\n",
    "plt.plot(splits, skeys, label='Distinct Keys', marker='x')\n",
    "plt.xlabel('Number of Splits')\n",
    "plt.ylabel('Count')\n",
    "plt.title('Mapper Outputs vs. Distinct Keys')\n",
    "plt.legend()\n",
    "plt.show()\n"
   ]
  },
  {
   "cell_type": "code",
   "execution_count": 18,
   "id": "b2ebde3e",
   "metadata": {},
   "outputs": [
    {
     "data": {
      "text/plain": [
       "'\\nThe graph generated from this code shows the impact of varying the number of splits on two metrics: \\nmapper outputs and distinct keys. \\n\\nMapper outputs increase as the number of splits grows because each split processes independently, \\nresulting in redundant computations and duplicate key-value pairs for overlapping frequent itemsets. \\nThis redundancy increases the total number of intermediate outputs.\\n\\nDistinct keys, however, plateau after the shuffle and reduce phases, as duplicates are consolidated \\nto reflect the actual number of unique frequent itemsets in the data. \\n\\nThe results confirm that while splitting allows for smaller chunks to be processed, it introduces \\noverhead due to redundant mapper outputs, emphasizing the need for a balance between the number of \\nsplits and computational efficiency.\\n'"
      ]
     },
     "execution_count": 18,
     "metadata": {},
     "output_type": "execute_result"
    }
   ],
   "source": [
    "\"\"\"\n",
    "The graph generated from this code shows the impact of varying the number of splits on two metrics: \n",
    "mapper outputs and distinct keys. \n",
    "\n",
    "Mapper outputs increase as the number of splits grows because each split processes independently, \n",
    "resulting in redundant computations and duplicate key-value pairs for overlapping frequent itemsets. \n",
    "This redundancy increases the total number of intermediate outputs.\n",
    "\n",
    "Distinct keys, however, plateau after the shuffle and reduce phases, as duplicates are consolidated \n",
    "to reflect the actual number of unique frequent itemsets in the data. \n",
    "\n",
    "The results confirm that while splitting allows for smaller chunks to be processed, it introduces \n",
    "overhead due to redundant mapper outputs, emphasizing the need for a balance between the number of \n",
    "splits and computational efficiency.\n",
    "\"\"\"\n"
   ]
  }
 ],
 "metadata": {
  "kernelspec": {
   "display_name": "Python 3 (ipykernel)",
   "language": "python",
   "name": "python3"
  },
  "language_info": {
   "codemirror_mode": {
    "name": "ipython",
    "version": 3
   },
   "file_extension": ".py",
   "mimetype": "text/x-python",
   "name": "python",
   "nbconvert_exporter": "python",
   "pygments_lexer": "ipython3",
   "version": "3.11.4"
  }
 },
 "nbformat": 4,
 "nbformat_minor": 5
}
