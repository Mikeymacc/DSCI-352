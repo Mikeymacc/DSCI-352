{
 "cells": [
  {
   "cell_type": "code",
   "execution_count": 1,
   "id": "5d273cf5",
   "metadata": {},
   "outputs": [],
   "source": [
    "import pandas as pd\n",
    "\n",
    "df = pd.read_csv('clean_shoes.csv')  \n",
    "\n",
    "df['prices.amountMin'] = pd.to_numeric(df['prices.amountMin'], errors='coerce')\n",
    "df['prices.amountMax'] = pd.to_numeric(df['prices.amountMax'], errors='coerce')\n",
    "\n",
    "df['average_price'] = df[['prices.amountMin', 'prices.amountMax']].mean(axis=1)\n",
    "\n",
    "# 1. Calculate the average price for each distinct brand\n",
    "average_prices = df.groupby('brand')['average_price'].mean().reset_index()\n",
    "\n",
    "average_prices.to_csv('output.csv', index=False)\n",
    "\n",
    "# 2. Top 5 brands with the highest average price\n",
    "top_5_avg_price = average_prices.sort_values(by='average_price', ascending=False).head(5)\n",
    "top_5_avg_price_list = ', '.join(top_5_avg_price['brand'])\n",
    "\n",
    "# 3. Top 5 brands with the biggest variance\n",
    "price_variance = df.groupby('brand')['average_price'].var().reset_index()\n",
    "top_5_variance = price_variance.sort_values(by='average_price', ascending=False).head(5)\n",
    "top_5_variance_list = ', '.join(top_5_variance['brand'])\n",
    "\n",
    "\n",
    "with open('output.txt', 'w') as f:\n",
    "    f.write(top_5_avg_price_list + '\\n')\n",
    "    f.write(top_5_variance_list)"
   ]
  },
  {
   "cell_type": "code",
   "execution_count": 9,
   "id": "3f4d7869",
   "metadata": {},
   "outputs": [],
   "source": [
    "import pandas as pd\n",
    "\n",
    "try:\n",
    "    old_df = pd.read_csv('OLD-lab0-data.csv', on_bad_lines='skip', low_memory=False)\n",
    "    \n",
    "    old_df['prices.amountMin'] = pd.to_numeric(old_df['prices.amountMin'], errors='coerce')\n",
    "    old_df['prices.amountMax'] = pd.to_numeric(old_df['prices.amountMax'], errors='coerce')\n",
    "\n",
    "    old_df_clean = old_df.dropna(subset=['prices.amountMin', 'prices.amountMax'], how='all').copy()\n",
    "\n",
    "    old_df_clean.loc[old_df_clean['prices.amountMin'].isna(), 'prices.amountMin'] = old_df_clean['prices.amountMax']\n",
    "    old_df_clean.loc[old_df_clean['prices.amountMax'].isna(), 'prices.amountMax'] = old_df_clean['prices.amountMin']\n",
    "\n",
    "    old_df_clean['average_price'] = old_df_clean[['prices.amountMin', 'prices.amountMax']].mean(axis=1)\n",
    "\n",
    "    old_df_clean.to_csv('my_clean_shoes.csv', index=False)\n",
    "\n",
    "    # 3. Document the Cleaning Process\n",
    "    with open('clean.txt', 'w') as f:\n",
    "        f.write('Cleaning Process for OLD-lab0-data.csv:\\n')\n",
    "        f.write('Skipped lines with parsing errors.\\n')\n",
    "        f.write('Converted prices.amountMin and prices.amountMax to numeric values.\\n')\n",
    "        f.write('Removed rows where both prices.amountMin and prices.amountMax were NaN.\\n')\n",
    "        f.write('Filled missing values in prices.amountMin with prices.amountMax.\\n')\n",
    "        f.write('Calculated a new column average_price based on the cleaned prices.\\n')\n",
    "\n",
    "except Exception as e:\n",
    "    with open('clean.txt', 'w') as f:\n",
    "        f.write(f'An error occurred while processing the file: {e}\\n')\n"
   ]
  },
  {
   "cell_type": "code",
   "execution_count": null,
   "id": "e661b07f",
   "metadata": {},
   "outputs": [],
   "source": []
  }
 ],
 "metadata": {
  "kernelspec": {
   "display_name": "Python 3 (ipykernel)",
   "language": "python",
   "name": "python3"
  },
  "language_info": {
   "codemirror_mode": {
    "name": "ipython",
    "version": 3
   },
   "file_extension": ".py",
   "mimetype": "text/x-python",
   "name": "python",
   "nbconvert_exporter": "python",
   "pygments_lexer": "ipython3",
   "version": "3.11.4"
  }
 },
 "nbformat": 4,
 "nbformat_minor": 5
}
