{
 "cells": [
  {
   "cell_type": "code",
   "execution_count": null,
   "id": "15dfaa38",
   "metadata": {},
   "outputs": [],
   "source": [
    "!pip install mlxtend\n",
    "from mlxtend.preprocessing import TransactionEncoder\n",
    "from mlxtend.frequent_patterns import apriori, fpgrowth, association_rules\n",
    "import pandas as pd\n",
    "import numpy as np\n",
    "import matplotlib.pyplot as plt"
   ]
  },
  {
   "cell_type": "code",
   "execution_count": null,
   "id": "84dcb8f0",
   "metadata": {},
   "outputs": [],
   "source": [
    "# Using a simple version of MapReduce from https://medium.com/@Vidya_Rajasekaran/map-reduce-technique-d9f83952745d\n",
    "\n",
    "from collections import defaultdict\n",
    "\n",
    "# Step 1: the data\n",
    "word_data = [\n",
    "    (\"apple\", 1),\n",
    "    (\"banana\", 2),\n",
    "    (\"apple\", 3),\n",
    "    (\"banana\", 4),\n",
    "    (\"cherry\", 5),\n",
    "]\n",
    "\n",
    "# Step 2: Map function (key-value pair generation)\n",
    "def mapper(item):\n",
    "    word, value = item\n",
    "    return [(word, value)]\n",
    "\n",
    "# Step 3: Shuffle and Sort (group by key)\n",
    "def shuffle_and_sort(mapped_items):\n",
    "    shuffled = defaultdict(list)\n",
    "    for key, value in mapped_items:\n",
    "        shuffled[key].append(value)\n",
    "    return shuffled.items()\n",
    "\n",
    "# Step 4: Reduce function (aggregation)\n",
    "def sumreducer(item):\n",
    "    key, values = item\n",
    "    return (key, sum(values))\n",
    "\n",
    "# Put MapReduce together\n",
    "def mapreduce(mapper, reducer, data):\n",
    "    \n",
    "    # Step 5: Map Phase\n",
    "    mapped_data = [pair for item in data for pair in mapper(item)]\n",
    "\n",
    "    # Step 6: Shuffle and Sort Phase\n",
    "    shuffled_data = shuffle_and_sort(mapped_data)\n",
    "\n",
    "    # Step 7: Reduce Phase\n",
    "    reduced_data = [reducer(item) for item in shuffled_data]\n",
    "    reduced_data = [x for x in reduced_data if x is not None]  # Allow 'None' to drop pairs out from the reducer\n",
    "    \n",
    "    return reduced_data, [len(item) for item in data], len(mapped_data), len(shuffled_data)\n",
    "\n",
    "# Run and retrieve the results and intermediate data\n",
    "summed_data, mapper_lengths, len_mapped, len_shuffled = mapreduce(mapper, sumreducer, word_data)\n",
    "print('mapper lengths, number of outputs, number of distinct intermediate keys:', \n",
    "      mapper_lengths, len_mapped, len_shuffled)\n",
    "\n",
    "# Print the final result\n",
    "for key, value in summed_data:\n",
    "    print(f\"{key}: {value}\")\n",
    "summed_data"
   ]
  },
  {
   "cell_type": "code",
   "execution_count": null,
   "id": "c9bc5edb",
   "metadata": {},
   "outputs": [],
   "source": [
    "# \n",
    "input_texts = [\n",
    "    \"Hello world\",\n",
    "    \"MapReduce is powerful\",\n",
    "    \"Hello world and MapReduce\"\n",
    "]\n",
    "\n",
    "# Your new code goes here:\n",
    "\n",
    "# After defining your new code, replace the arguments in <angle brackets>.\n",
    "# These calls should then produce the required results for step 1:\n",
    "print(mapreduce(<mapper>, <reducer>, [input_texts]))\n",
    "print(mapreduce(<mapper>, <reducer>, [[x] for x in input_texts]))"
   ]
  },
  {
   "cell_type": "code",
   "execution_count": null,
   "id": "840c3733",
   "metadata": {},
   "outputs": [],
   "source": [
    "# Use subsequent cells to address steps 2 and 3"
   ]
  }
 ],
 "metadata": {
  "kernelspec": {
   "display_name": "Python 3 (ipykernel)",
   "language": "python",
   "name": "python3"
  },
  "language_info": {
   "codemirror_mode": {
    "name": "ipython",
    "version": 3
   },
   "file_extension": ".py",
   "mimetype": "text/x-python",
   "name": "python",
   "nbconvert_exporter": "python",
   "pygments_lexer": "ipython3",
   "version": "3.10.14"
  }
 },
 "nbformat": 4,
 "nbformat_minor": 5
}
